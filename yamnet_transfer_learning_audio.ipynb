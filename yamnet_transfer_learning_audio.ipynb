{
  "cells": [
    {
      "cell_type": "markdown",
      "metadata": {
        "id": "view-in-github",
        "colab_type": "text"
      },
      "source": [
        "<a href=\"https://colab.research.google.com/github/rudyhendrawn/Riset-AI-SIKGM/blob/main/yamnet_transfer_learning_audio.ipynb\" target=\"_parent\"><img src=\"https://colab.research.google.com/assets/colab-badge.svg\" alt=\"Open In Colab\"/></a>"
      ]
    },
    {
      "cell_type": "markdown",
      "metadata": {
        "id": "Cb4espuLKJiA"
      },
      "source": [
        "##### Copyright 2021 The TensorFlow Authors."
      ]
    },
    {
      "cell_type": "code",
      "execution_count": null,
      "metadata": {
        "cellView": "form",
        "id": "DjZQV2njKJ3U"
      },
      "outputs": [],
      "source": [
        "#@title Licensed under the Apache License, Version 2.0 (the \"License\");\n",
        "# you may not use this file except in compliance with the License.\n",
        "# You may obtain a copy of the License at\n",
        "#\n",
        "# https://www.apache.org/licenses/LICENSE-2.0\n",
        "#\n",
        "# Unless required by applicable law or agreed to in writing, software\n",
        "# distributed under the License is distributed on an \"AS IS\" BASIS,\n",
        "# WITHOUT WARRANTIES OR CONDITIONS OF ANY KIND, either express or implied.\n",
        "# See the License for the specific language governing permissions and\n",
        "# limitations under the License."
      ]
    },
    {
      "cell_type": "markdown",
      "metadata": {
        "id": "mTL0TERThT6z"
      },
      "source": [
        "<table class=\"tfo-notebook-buttons\" align=\"left\">\n",
        "  <td>\n",
        "    <a target=\"_blank\" href=\"https://www.tensorflow.org/tutorials/audio/transfer_learning_audio\"><img src=\"https://www.tensorflow.org/images/tf_logo_32px.png\" />View on TensorFlow.org</a>\n",
        "  </td>\n",
        "  <td>\n",
        "    <a target=\"_blank\" href=\"https://colab.research.google.com/github/tensorflow/docs/blob/master/site/en/tutorials/audio/transfer_learning_audio.ipynb\"><img src=\"https://www.tensorflow.org/images/colab_logo_32px.png\" />Run in Google Colab</a>\n",
        "  </td>\n",
        "  <td>\n",
        "    <a target=\"_blank\" href=\"https://github.com/tensorflow/docs/blob/master/site/en/tutorials/audio/transfer_learning_audio.ipynb\"><img src=\"https://www.tensorflow.org/images/GitHub-Mark-32px.png\" />View on GitHub</a>\n",
        "  </td>\n",
        "  <td>\n",
        "    <a href=\"https://storage.googleapis.com/tensorflow_docs/docs/site/en/tutorials/audio/transfer_learning_audio.ipynb\"><img src=\"https://www.tensorflow.org/images/download_logo_32px.png\" />Download notebook</a>\n",
        "  </td>\n",
        "  <td>\n",
        "    <a href=\"https://tfhub.dev/google/yamnet/1\"><img src=\"https://www.tensorflow.org/images/hub_logo_32px.png\" />See TF Hub model</a>\n",
        "  </td>\n",
        "</table>"
      ]
    },
    {
      "cell_type": "markdown",
      "metadata": {
        "id": "K2madPFAGHb3"
      },
      "source": [
        "# Transfer learning with YAMNet for environmental sound classification\n",
        "\n",
        "[YAMNet](https://tfhub.dev/google/yamnet/1) is a pre-trained deep neural network that can predict audio events from [521 classes](https://github.com/tensorflow/models/blob/master/research/audioset/yamnet/yamnet_class_map.csv), such as laughter, barking, or a siren. \n",
        "\n",
        " In this tutorial you will learn how to:\n",
        "\n",
        "- Load and use the YAMNet model for inference.\n",
        "- Build a new model using the YAMNet embeddings to classify cat and dog sounds.\n",
        "- Evaluate and export your model.\n"
      ]
    },
    {
      "cell_type": "markdown",
      "metadata": {
        "id": "5Mdp2TpBh96Y"
      },
      "source": [
        "## Import TensorFlow and other libraries\n"
      ]
    },
    {
      "cell_type": "markdown",
      "metadata": {
        "id": "zCcKYqu_hvKe"
      },
      "source": [
        "Start by installing [TensorFlow I/O](https://www.tensorflow.org/io), which will make it easier for you to load audio files off disk."
      ]
    },
    {
      "cell_type": "code",
      "execution_count": 1,
      "metadata": {
        "id": "urBpRWDHTHHU",
        "colab": {
          "base_uri": "https://localhost:8080/"
        },
        "outputId": "1f454414-f113-46f1-a39d-dc25f70bc720"
      },
      "outputs": [
        {
          "output_type": "stream",
          "name": "stdout",
          "text": [
            "\u001b[2K     \u001b[90m━━━━━━━━━━━━━━━━━━━━━━━━━━━━━━━━━━━━━━━\u001b[0m \u001b[32m588.3/588.3 MB\u001b[0m \u001b[31m2.8 MB/s\u001b[0m eta \u001b[36m0:00:00\u001b[0m\n",
            "\u001b[2K     \u001b[90m━━━━━━━━━━━━━━━━━━━━━━━━━━━━━━━━━━━━━━━━\u001b[0m \u001b[32m1.7/1.7 MB\u001b[0m \u001b[31m95.9 MB/s\u001b[0m eta \u001b[36m0:00:00\u001b[0m\n",
            "\u001b[2K     \u001b[90m━━━━━━━━━━━━━━━━━━━━━━━━━━━━━━━━━━━━━━━━\u001b[0m \u001b[32m1.1/1.1 MB\u001b[0m \u001b[31m75.2 MB/s\u001b[0m eta \u001b[36m0:00:00\u001b[0m\n",
            "\u001b[2K     \u001b[90m━━━━━━━━━━━━━━━━━━━━━━━━━━━━━━━━━━━━━━━━\u001b[0m \u001b[32m6.0/6.0 MB\u001b[0m \u001b[31m86.8 MB/s\u001b[0m eta \u001b[36m0:00:00\u001b[0m\n",
            "\u001b[2K     \u001b[90m━━━━━━━━━━━━━━━━━━━━━━━━━━━━━━━━━━━━━━\u001b[0m \u001b[32m439.2/439.2 kB\u001b[0m \u001b[31m41.1 MB/s\u001b[0m eta \u001b[36m0:00:00\u001b[0m\n",
            "\u001b[2K     \u001b[90m━━━━━━━━━━━━━━━━━━━━━━━━━━━━━━━━━━━━━━━━\u001b[0m \u001b[32m4.9/4.9 MB\u001b[0m \u001b[31m117.5 MB/s\u001b[0m eta \u001b[36m0:00:00\u001b[0m\n",
            "\u001b[?25h\u001b[31mERROR: pip's dependency resolver does not currently take into account all the packages that are installed. This behaviour is the source of the following dependency conflicts.\n",
            "tensorflow-datasets 4.9.2 requires protobuf>=3.20, but you have protobuf 3.19.6 which is incompatible.\n",
            "tensorflow-metadata 1.13.1 requires protobuf<5,>=3.20.3, but you have protobuf 3.19.6 which is incompatible.\u001b[0m\u001b[31m\n",
            "\u001b[2K     \u001b[90m━━━━━━━━━━━━━━━━━━━━━━━━━━━━━━━━━━━━━━━━\u001b[0m \u001b[32m26.9/26.9 MB\u001b[0m \u001b[31m55.6 MB/s\u001b[0m eta \u001b[36m0:00:00\u001b[0m\n",
            "\u001b[2K     \u001b[90m━━━━━━━━━━━━━━━━━━━━━━━━━━━━━━━━━━━━━━━━\u001b[0m \u001b[32m2.4/2.4 MB\u001b[0m \u001b[31m86.8 MB/s\u001b[0m eta \u001b[36m0:00:00\u001b[0m\n",
            "\u001b[?25h"
          ]
        }
      ],
      "source": [
        "!pip install -q \"tensorflow==2.11.*\"\n",
        "# tensorflow_io 0.28 is compatible with TensorFlow 2.11\n",
        "!pip install -q \"tensorflow_io==0.28.*\""
      ]
    },
    {
      "cell_type": "code",
      "execution_count": 2,
      "metadata": {
        "id": "7l3nqdWVF-kC"
      },
      "outputs": [],
      "source": [
        "import os\n",
        "import numpy as np\n",
        "import pandas as pd\n",
        "import matplotlib.pyplot as plt\n",
        "\n",
        "import tensorflow as tf\n",
        "import tensorflow_hub as hub\n",
        "import tensorflow_io as tfio\n",
        "\n",
        "from IPython import display\n",
        "from sklearn.metrics import accuracy_score, precision_score, recall_score, f1_score"
      ]
    },
    {
      "cell_type": "markdown",
      "metadata": {
        "id": "v9ZhybCnt_bM"
      },
      "source": [
        "## About YAMNet\n",
        "\n",
        "[YAMNet](https://github.com/tensorflow/models/tree/master/research/audioset/yamnet) is a pre-trained neural network that employs the [MobileNetV1](https://arxiv.org/abs/1704.04861) depthwise-separable convolution architecture. It can use an audio waveform as input and make independent predictions for each of the 521 audio events from the [AudioSet](http://g.co/audioset) corpus.\n",
        "\n",
        "Internally, the model extracts \"frames\" from the audio signal and processes batches of these frames. This version of the model uses frames that are 0.96 second long and extracts one frame every 0.48 seconds .\n",
        "\n",
        "The model accepts a 1-D float32 Tensor or NumPy array containing a waveform of arbitrary length, represented as single-channel (mono) 16 kHz samples in the range `[-1.0, +1.0]`. This tutorial contains code to help you convert WAV files into the supported format.\n",
        "\n",
        "The model returns 3 outputs, including the class scores, embeddings (which you will use for transfer learning), and the log mel [spectrogram](https://www.tensorflow.org/tutorials/audio/simple_audio#spectrogram). You can find more details [here](https://tfhub.dev/google/yamnet/1).\n",
        "\n",
        "One specific use of YAMNet is as a high-level feature extractor - the 1,024-dimensional embedding output. You will use the base (YAMNet) model's input features and feed them into your shallower model consisting of one hidden `tf.keras.layers.Dense` layer. Then, you will train the network on a small amount of data for audio classification _without_ requiring a lot of labeled data and training end-to-end. (This is similar to [transfer learning for image classification with TensorFlow Hub](https://www.tensorflow.org/tutorials/images/transfer_learning_with_hub) for more information.)\n",
        "\n",
        "First, you will test the model and see the results of classifying audio. You will then construct the data pre-processing pipeline.\n",
        "\n",
        "### Loading YAMNet from TensorFlow Hub\n",
        "\n",
        "You are going to use a pre-trained YAMNet from [Tensorflow Hub](https://tfhub.dev/) to extract the embeddings from the sound files.\n",
        "\n",
        "Loading a model from TensorFlow Hub is straightforward: choose the model, copy its URL, and use the `load` function.\n",
        "\n",
        "Note: to read the documentation of the model, use the model URL in your browser."
      ]
    },
    {
      "cell_type": "code",
      "execution_count": 3,
      "metadata": {
        "id": "06CWkBV5v3gr"
      },
      "outputs": [],
      "source": [
        "yamnet_model_handle = 'https://tfhub.dev/google/yamnet/1'\n",
        "yamnet_model = hub.load(yamnet_model_handle)"
      ]
    },
    {
      "cell_type": "markdown",
      "metadata": {
        "id": "mBm9y9iV2U_-"
      },
      "source": [
        "You will need a function to load audio files, which will also be used later when working with the training data. (Learn more about reading audio files and their labels in [Simple audio recognition](https://www.tensorflow.org/tutorials/audio/simple_audio#reading_audio_files_and_their_labels).\n",
        "\n",
        "Note: The returned `wav_data` from `load_wav_16k_mono` is already normalized to values in the `[-1.0, 1.0]` range (for more information, go to [YAMNet's documentation on TF Hub](https://tfhub.dev/google/yamnet/1))."
      ]
    },
    {
      "cell_type": "code",
      "execution_count": 4,
      "metadata": {
        "id": "Xwc9Wrdg2EtY"
      },
      "outputs": [],
      "source": [
        "# Utility functions for loading audio files and making sure the sample rate is correct.\n",
        "@tf.function\n",
        "def load_wav_16k_mono(filename):\n",
        "    \"\"\" Load a WAV file, convert it to a float tensor, resample to 16 kHz single-channel audio. \"\"\"\n",
        "    file_contents = tf.io.read_file(filename)\n",
        "    wav, sample_rate = tf.audio.decode_wav(\n",
        "          file_contents,\n",
        "          desired_channels=1)\n",
        "    wav = tf.squeeze(wav, axis=-1)\n",
        "    sample_rate = tf.cast(sample_rate, dtype=tf.int64)\n",
        "    wav = tfio.audio.resample(wav, rate_in=sample_rate, rate_out=16000)\n",
        "    return wav"
      ]
    },
    {
      "cell_type": "markdown",
      "metadata": {
        "id": "8yKrH711wA40"
      },
      "source": [
        "## Bioakustik Gajah Dataset"
      ]
    },
    {
      "cell_type": "code",
      "execution_count": 5,
      "metadata": {
        "colab": {
          "base_uri": "https://localhost:8080/"
        },
        "id": "pkrR1AWbwFGn",
        "outputId": "2e857834-aec0-4e05-f5a9-629f90767a97"
      },
      "outputs": [
        {
          "output_type": "stream",
          "name": "stdout",
          "text": [
            "Mounted at /content/drive\n"
          ]
        }
      ],
      "source": [
        "from google.colab import drive\n",
        "drive.mount('/content/drive')"
      ]
    },
    {
      "cell_type": "markdown",
      "metadata": {
        "id": "3kZOOKxBc8Wg"
      },
      "source": [
        "### Use this if the dataset still in Zip format\n",
        "\n",
        "Otherwise, skip it!"
      ]
    },
    {
      "cell_type": "code",
      "execution_count": 6,
      "metadata": {
        "id": "SNmNwrK_wFEK"
      },
      "outputs": [],
      "source": [
        "DATA_DIR = '/content/drive/MyDrive/Colab Notebooks/datasets/bioakustik-gajah'\n",
        "# FILENAME = 'segmented_audio_data_v2.zip'\n",
        "\n",
        "# from zipfile import ZipFile\n",
        "  \n",
        "# # loading the temp.zip and creating a zip object\n",
        "# with ZipFile(os.path.join(DATA_DIR, FILENAME), 'r') as zObject:\n",
        "#     zObject.extractall(path=DATA_DIR)\n",
        "# zObject.close()"
      ]
    },
    {
      "cell_type": "code",
      "execution_count": 7,
      "metadata": {
        "colab": {
          "base_uri": "https://localhost:8080/",
          "height": 270
        },
        "id": "G4O_SnLpwFBv",
        "outputId": "13ff6dae-2361-4b94-8485-19e66e611da3"
      },
      "outputs": [
        {
          "output_type": "execute_result",
          "data": {
            "text/plain": [
              "                filename   sound_type  sample_rate  num_frames  num_channels  \\\n",
              "1478       rumble_18.wav       rumble        22050       68782             1   \n",
              "1479  firecracker_64.wav  firecracker        22050       16777             1   \n",
              "1480     trumpet_137.wav      trumpet        22050       37587             1   \n",
              "1481  roar_rumble_48.wav  roar_rumble        22050       55570             1   \n",
              "1482      rumble_350.wav       rumble        22050       62646             1   \n",
              "\n",
              "      bits_per_sample encoding  class_id    alt_class  alt_class_id  \n",
              "1478               16    PCM_S         2       rumble             2  \n",
              "1479               16    PCM_S        17        other             1  \n",
              "1480               16    PCM_S         0      trumpet             0  \n",
              "1481               16    PCM_S         7  roar_rumble             4  \n",
              "1482               16    PCM_S         2       rumble             2  "
            ],
            "text/html": [
              "\n",
              "  <div id=\"df-01bc0640-0497-4ce7-b485-bdc56def5fac\">\n",
              "    <div class=\"colab-df-container\">\n",
              "      <div>\n",
              "<style scoped>\n",
              "    .dataframe tbody tr th:only-of-type {\n",
              "        vertical-align: middle;\n",
              "    }\n",
              "\n",
              "    .dataframe tbody tr th {\n",
              "        vertical-align: top;\n",
              "    }\n",
              "\n",
              "    .dataframe thead th {\n",
              "        text-align: right;\n",
              "    }\n",
              "</style>\n",
              "<table border=\"1\" class=\"dataframe\">\n",
              "  <thead>\n",
              "    <tr style=\"text-align: right;\">\n",
              "      <th></th>\n",
              "      <th>filename</th>\n",
              "      <th>sound_type</th>\n",
              "      <th>sample_rate</th>\n",
              "      <th>num_frames</th>\n",
              "      <th>num_channels</th>\n",
              "      <th>bits_per_sample</th>\n",
              "      <th>encoding</th>\n",
              "      <th>class_id</th>\n",
              "      <th>alt_class</th>\n",
              "      <th>alt_class_id</th>\n",
              "    </tr>\n",
              "  </thead>\n",
              "  <tbody>\n",
              "    <tr>\n",
              "      <th>1478</th>\n",
              "      <td>rumble_18.wav</td>\n",
              "      <td>rumble</td>\n",
              "      <td>22050</td>\n",
              "      <td>68782</td>\n",
              "      <td>1</td>\n",
              "      <td>16</td>\n",
              "      <td>PCM_S</td>\n",
              "      <td>2</td>\n",
              "      <td>rumble</td>\n",
              "      <td>2</td>\n",
              "    </tr>\n",
              "    <tr>\n",
              "      <th>1479</th>\n",
              "      <td>firecracker_64.wav</td>\n",
              "      <td>firecracker</td>\n",
              "      <td>22050</td>\n",
              "      <td>16777</td>\n",
              "      <td>1</td>\n",
              "      <td>16</td>\n",
              "      <td>PCM_S</td>\n",
              "      <td>17</td>\n",
              "      <td>other</td>\n",
              "      <td>1</td>\n",
              "    </tr>\n",
              "    <tr>\n",
              "      <th>1480</th>\n",
              "      <td>trumpet_137.wav</td>\n",
              "      <td>trumpet</td>\n",
              "      <td>22050</td>\n",
              "      <td>37587</td>\n",
              "      <td>1</td>\n",
              "      <td>16</td>\n",
              "      <td>PCM_S</td>\n",
              "      <td>0</td>\n",
              "      <td>trumpet</td>\n",
              "      <td>0</td>\n",
              "    </tr>\n",
              "    <tr>\n",
              "      <th>1481</th>\n",
              "      <td>roar_rumble_48.wav</td>\n",
              "      <td>roar_rumble</td>\n",
              "      <td>22050</td>\n",
              "      <td>55570</td>\n",
              "      <td>1</td>\n",
              "      <td>16</td>\n",
              "      <td>PCM_S</td>\n",
              "      <td>7</td>\n",
              "      <td>roar_rumble</td>\n",
              "      <td>4</td>\n",
              "    </tr>\n",
              "    <tr>\n",
              "      <th>1482</th>\n",
              "      <td>rumble_350.wav</td>\n",
              "      <td>rumble</td>\n",
              "      <td>22050</td>\n",
              "      <td>62646</td>\n",
              "      <td>1</td>\n",
              "      <td>16</td>\n",
              "      <td>PCM_S</td>\n",
              "      <td>2</td>\n",
              "      <td>rumble</td>\n",
              "      <td>2</td>\n",
              "    </tr>\n",
              "  </tbody>\n",
              "</table>\n",
              "</div>\n",
              "      <button class=\"colab-df-convert\" onclick=\"convertToInteractive('df-01bc0640-0497-4ce7-b485-bdc56def5fac')\"\n",
              "              title=\"Convert this dataframe to an interactive table.\"\n",
              "              style=\"display:none;\">\n",
              "        \n",
              "  <svg xmlns=\"http://www.w3.org/2000/svg\" height=\"24px\"viewBox=\"0 0 24 24\"\n",
              "       width=\"24px\">\n",
              "    <path d=\"M0 0h24v24H0V0z\" fill=\"none\"/>\n",
              "    <path d=\"M18.56 5.44l.94 2.06.94-2.06 2.06-.94-2.06-.94-.94-2.06-.94 2.06-2.06.94zm-11 1L8.5 8.5l.94-2.06 2.06-.94-2.06-.94L8.5 2.5l-.94 2.06-2.06.94zm10 10l.94 2.06.94-2.06 2.06-.94-2.06-.94-.94-2.06-.94 2.06-2.06.94z\"/><path d=\"M17.41 7.96l-1.37-1.37c-.4-.4-.92-.59-1.43-.59-.52 0-1.04.2-1.43.59L10.3 9.45l-7.72 7.72c-.78.78-.78 2.05 0 2.83L4 21.41c.39.39.9.59 1.41.59.51 0 1.02-.2 1.41-.59l7.78-7.78 2.81-2.81c.8-.78.8-2.07 0-2.86zM5.41 20L4 18.59l7.72-7.72 1.47 1.35L5.41 20z\"/>\n",
              "  </svg>\n",
              "      </button>\n",
              "      \n",
              "  <style>\n",
              "    .colab-df-container {\n",
              "      display:flex;\n",
              "      flex-wrap:wrap;\n",
              "      gap: 12px;\n",
              "    }\n",
              "\n",
              "    .colab-df-convert {\n",
              "      background-color: #E8F0FE;\n",
              "      border: none;\n",
              "      border-radius: 50%;\n",
              "      cursor: pointer;\n",
              "      display: none;\n",
              "      fill: #1967D2;\n",
              "      height: 32px;\n",
              "      padding: 0 0 0 0;\n",
              "      width: 32px;\n",
              "    }\n",
              "\n",
              "    .colab-df-convert:hover {\n",
              "      background-color: #E2EBFA;\n",
              "      box-shadow: 0px 1px 2px rgba(60, 64, 67, 0.3), 0px 1px 3px 1px rgba(60, 64, 67, 0.15);\n",
              "      fill: #174EA6;\n",
              "    }\n",
              "\n",
              "    [theme=dark] .colab-df-convert {\n",
              "      background-color: #3B4455;\n",
              "      fill: #D2E3FC;\n",
              "    }\n",
              "\n",
              "    [theme=dark] .colab-df-convert:hover {\n",
              "      background-color: #434B5C;\n",
              "      box-shadow: 0px 1px 3px 1px rgba(0, 0, 0, 0.15);\n",
              "      filter: drop-shadow(0px 1px 2px rgba(0, 0, 0, 0.3));\n",
              "      fill: #FFFFFF;\n",
              "    }\n",
              "  </style>\n",
              "\n",
              "      <script>\n",
              "        const buttonEl =\n",
              "          document.querySelector('#df-01bc0640-0497-4ce7-b485-bdc56def5fac button.colab-df-convert');\n",
              "        buttonEl.style.display =\n",
              "          google.colab.kernel.accessAllowed ? 'block' : 'none';\n",
              "\n",
              "        async function convertToInteractive(key) {\n",
              "          const element = document.querySelector('#df-01bc0640-0497-4ce7-b485-bdc56def5fac');\n",
              "          const dataTable =\n",
              "            await google.colab.kernel.invokeFunction('convertToInteractive',\n",
              "                                                     [key], {});\n",
              "          if (!dataTable) return;\n",
              "\n",
              "          const docLinkHtml = 'Like what you see? Visit the ' +\n",
              "            '<a target=\"_blank\" href=https://colab.research.google.com/notebooks/data_table.ipynb>data table notebook</a>'\n",
              "            + ' to learn more about interactive tables.';\n",
              "          element.innerHTML = '';\n",
              "          dataTable['output_type'] = 'display_data';\n",
              "          await google.colab.output.renderOutput(dataTable, element);\n",
              "          const docLink = document.createElement('div');\n",
              "          docLink.innerHTML = docLinkHtml;\n",
              "          element.appendChild(docLink);\n",
              "        }\n",
              "      </script>\n",
              "    </div>\n",
              "  </div>\n",
              "  "
            ]
          },
          "metadata": {},
          "execution_count": 7
        }
      ],
      "source": [
        "train_metadata = pd.read_csv(os.path.join(DATA_DIR, 'train.csv'))\n",
        "val_metadata = pd.read_csv(os.path.join(DATA_DIR, 'val.csv'))\n",
        "test_metadata = pd.read_csv(os.path.join(DATA_DIR, 'test.csv'))\n",
        "train_metadata.tail()"
      ]
    },
    {
      "cell_type": "code",
      "execution_count": 8,
      "metadata": {
        "colab": {
          "base_uri": "https://localhost:8080/"
        },
        "id": "owyBtPhs10g1",
        "outputId": "e6933d77-b818-440a-9417-7ec94970b62e"
      },
      "outputs": [
        {
          "output_type": "stream",
          "name": "stdout",
          "text": [
            "Validation length: 371\n",
            "Test length: 206\n"
          ]
        }
      ],
      "source": [
        "print(\"Validation length: {}\".format(len(val_metadata)))\n",
        "print(\"Test length: {}\".format(len(test_metadata)))"
      ]
    },
    {
      "cell_type": "code",
      "execution_count": 9,
      "metadata": {
        "colab": {
          "base_uri": "https://localhost:8080/"
        },
        "id": "vQku2i3vwE_N",
        "outputId": "ba10de2c-dda5-495f-9b18-dd9a007c63b0"
      },
      "outputs": [
        {
          "output_type": "execute_result",
          "data": {
            "text/plain": [
              "0    /content/drive/MyDrive/Colab Notebooks/dataset...\n",
              "1    /content/drive/MyDrive/Colab Notebooks/dataset...\n",
              "2    /content/drive/MyDrive/Colab Notebooks/dataset...\n",
              "3    /content/drive/MyDrive/Colab Notebooks/dataset...\n",
              "4    /content/drive/MyDrive/Colab Notebooks/dataset...\n",
              "Name: filename, dtype: object"
            ]
          },
          "metadata": {},
          "execution_count": 9
        }
      ],
      "source": [
        "# Give complete path to filename\n",
        "train_metadata['filename'] = train_metadata['filename'].apply(lambda x: os.path.join(DATA_DIR, x))\n",
        "val_metadata['filename'] = val_metadata['filename'].apply(lambda x: os.path.join(DATA_DIR, x))\n",
        "test_metadata['filename'] = test_metadata['filename'].apply(lambda x: os.path.join(DATA_DIR, x))\n",
        "\n",
        "# Use only filename and alt_class_id column in train, val, and test\n",
        "train_df_filename = train_metadata['filename'].copy()\n",
        "train_df_label = train_metadata['alt_class_id'].copy()\n",
        "\n",
        "val_df_filename = val_metadata['filename'].copy()\n",
        "val_df_label = val_metadata['alt_class_id'].copy()\n",
        "\n",
        "test_df_filename = test_metadata['filename'].copy()\n",
        "test_df_label = test_metadata['alt_class_id'].copy()\n",
        "\n",
        "train_df_filename.head()"
      ]
    },
    {
      "cell_type": "code",
      "execution_count": 10,
      "metadata": {
        "colab": {
          "base_uri": "https://localhost:8080/"
        },
        "id": "pSb9b9nehrSe",
        "outputId": "711205c8-5492-4286-bb2e-6b8ec22d56b9"
      },
      "outputs": [
        {
          "output_type": "execute_result",
          "data": {
            "text/plain": [
              "2    527\n",
              "1    370\n",
              "0    292\n",
              "5    173\n",
              "3     72\n",
              "4     39\n",
              "7      6\n",
              "6      4\n",
              "Name: alt_class_id, dtype: int64"
            ]
          },
          "metadata": {},
          "execution_count": 10
        }
      ],
      "source": [
        "train_df_label.value_counts()"
      ]
    },
    {
      "cell_type": "markdown",
      "metadata": {
        "id": "BkDcBS-aJdCz"
      },
      "source": [
        "### Load the audio files and retrieve embeddings\n",
        "\n",
        "Here you'll apply the `load_wav_16k_mono` and prepare the WAV data for the model.\n",
        "\n",
        "When extracting embeddings from the WAV data, you get an array of shape `(N, 1024)`  where `N` is the number of frames that YAMNet found (one for every 0.48 seconds of audio)."
      ]
    },
    {
      "cell_type": "markdown",
      "metadata": {
        "id": "AKDT5RomaDKO"
      },
      "source": [
        "Your model will use each frame as one input. Therefore, you need to create a new column that has one frame per row. You also need to expand the labels and the `fold` column to proper reflect these new rows.\n",
        "\n",
        "The expanded `fold` column keeps the original values. You cannot mix frames because, when performing the splits, you might end up having parts of the same audio on different splits, which would make your validation and test steps less effective."
      ]
    },
    {
      "cell_type": "code",
      "execution_count": 11,
      "metadata": {
        "colab": {
          "base_uri": "https://localhost:8080/"
        },
        "id": "u5Rq3_PyKLtU",
        "outputId": "68f914b8-46ef-4413-d70e-d28507853d16"
      },
      "outputs": [
        {
          "output_type": "stream",
          "name": "stdout",
          "text": [
            "(TensorSpec(shape=(), dtype=tf.string, name=None), TensorSpec(shape=(), dtype=tf.int64, name=None))\n",
            "(TensorSpec(shape=(), dtype=tf.string, name=None), TensorSpec(shape=(), dtype=tf.int64, name=None))\n",
            "(TensorSpec(shape=(), dtype=tf.string, name=None), TensorSpec(shape=(), dtype=tf.int64, name=None))\n"
          ]
        }
      ],
      "source": [
        "train_ds = tf.data.Dataset.from_tensor_slices((train_df_filename, train_df_label))\n",
        "val_ds = tf.data.Dataset.from_tensor_slices((val_df_filename, val_df_label))\n",
        "test_ds = tf.data.Dataset.from_tensor_slices((test_df_filename, test_df_label))\n",
        "print(train_ds.element_spec)\n",
        "print(val_ds.element_spec)\n",
        "print(test_ds.element_spec)"
      ]
    },
    {
      "cell_type": "code",
      "execution_count": 12,
      "metadata": {
        "colab": {
          "base_uri": "https://localhost:8080/"
        },
        "id": "rsEfovDVAHGY",
        "outputId": "84d33353-672a-4fc0-d0a7-143ca7660512"
      },
      "outputs": [
        {
          "output_type": "stream",
          "name": "stderr",
          "text": [
            "WARNING:tensorflow:From /usr/local/lib/python3.10/dist-packages/tensorflow/python/autograph/pyct/static_analysis/liveness.py:83: Analyzer.lamba_check (from tensorflow.python.autograph.pyct.static_analysis.liveness) is deprecated and will be removed after 2023-09-23.\n",
            "Instructions for updating:\n",
            "Lambda fuctions will be no more assumed to be used in the statement where they are used, or at least in the same block. https://github.com/tensorflow/tensorflow/issues/56089\n",
            "WARNING:tensorflow:Using a while_loop for converting IO>AudioResample cause there is no registered converter for this op.\n"
          ]
        },
        {
          "output_type": "stream",
          "name": "stdout",
          "text": [
            "(TensorSpec(shape=<unknown>, dtype=tf.float32, name=None), TensorSpec(shape=(), dtype=tf.int64, name=None))\n"
          ]
        }
      ],
      "source": [
        "def load_wav_for_map(filename, label):\n",
        "  return load_wav_16k_mono(filename), label\n",
        "\n",
        "train_ds = train_ds.map(load_wav_for_map)\n",
        "print(train_ds.element_spec)"
      ]
    },
    {
      "cell_type": "code",
      "execution_count": 13,
      "metadata": {
        "colab": {
          "base_uri": "https://localhost:8080/"
        },
        "id": "ODu_MEhaj6BB",
        "outputId": "906820ce-f9d3-4c7b-cf06-6e02aef8499e"
      },
      "outputs": [
        {
          "output_type": "stream",
          "name": "stdout",
          "text": [
            "(TensorSpec(shape=<unknown>, dtype=tf.float32, name=None), TensorSpec(shape=(), dtype=tf.int64, name=None))\n"
          ]
        }
      ],
      "source": [
        "val_ds = val_ds.map(load_wav_for_map)\n",
        "print(val_ds.element_spec)"
      ]
    },
    {
      "cell_type": "code",
      "execution_count": 14,
      "metadata": {
        "colab": {
          "base_uri": "https://localhost:8080/"
        },
        "id": "pm0eamljj53M",
        "outputId": "6809bbb5-d743-4a12-f09e-8ae98a030edc"
      },
      "outputs": [
        {
          "output_type": "stream",
          "name": "stdout",
          "text": [
            "(TensorSpec(shape=<unknown>, dtype=tf.float32, name=None), TensorSpec(shape=(), dtype=tf.int64, name=None))\n"
          ]
        }
      ],
      "source": [
        "test_ds = test_ds.map(load_wav_for_map)\n",
        "print(test_ds.element_spec)"
      ]
    },
    {
      "cell_type": "code",
      "execution_count": 15,
      "metadata": {
        "colab": {
          "base_uri": "https://localhost:8080/"
        },
        "id": "k0tG8DBNAHcE",
        "outputId": "552294bd-05da-4dcc-b6cc-48adc14233d1"
      },
      "outputs": [
        {
          "output_type": "stream",
          "name": "stdout",
          "text": [
            "(TensorSpec(shape=(1024,), dtype=tf.float32, name=None), TensorSpec(shape=(), dtype=tf.int64, name=None))\n",
            "(TensorSpec(shape=(1024,), dtype=tf.float32, name=None), TensorSpec(shape=(), dtype=tf.int64, name=None))\n",
            "(TensorSpec(shape=(1024,), dtype=tf.float32, name=None), TensorSpec(shape=(), dtype=tf.int64, name=None))\n"
          ]
        }
      ],
      "source": [
        "# applies the embedding extraction model to a wav data\n",
        "def extract_embedding(wav_data, label):\n",
        "  ''' run YAMNet to extract embedding from the wav data '''\n",
        "  scores, embeddings, spectrogram = yamnet_model(wav_data)\n",
        "  num_embeddings = tf.shape(embeddings)[0]\n",
        "  return (embeddings, tf.repeat(label, num_embeddings))\n",
        "\n",
        "# extract embedding\n",
        "train_ds = train_ds.map(extract_embedding).unbatch()\n",
        "val_ds = val_ds.map(extract_embedding).unbatch()\n",
        "test_ds = test_ds.map(extract_embedding).unbatch()\n",
        "print(train_ds.element_spec)\n",
        "print(val_ds.element_spec)\n",
        "print(test_ds.element_spec)"
      ]
    },
    {
      "cell_type": "markdown",
      "metadata": {
        "id": "SvS2arXt1jIH"
      },
      "source": [
        "### Split the data\n",
        "Use this if you don't split the dataframe in the first place."
      ]
    },
    {
      "cell_type": "code",
      "execution_count": null,
      "metadata": {
        "id": "cKVNzIBK1e7g"
      },
      "outputs": [],
      "source": [
        "# # Shuffle the dataset\n",
        "# cached_ds = main_ds.cache()\n",
        "# # shuffled_ds = main_ds.shuffle(buffer_size=2060)\n",
        "\n",
        "# # Determine the size of each split\n",
        "# total_size = len(list(cached_ds))\n",
        "# print(total_size)\n",
        "# train_size = int(0.7 * total_size)\n",
        "# val_size = int(0.2 * total_size)\n",
        "# # test_size is the remaining elements\n",
        "\n",
        "# # Split the data\n",
        "# train_ds = cached_ds.take(train_size)\n",
        "# val_ds = cached_ds.skip(train_size).take(val_size)\n",
        "# test_ds = cached_ds.skip(train_size + val_size)"
      ]
    },
    {
      "cell_type": "code",
      "execution_count": 16,
      "metadata": {
        "id": "1ZYvlFiVsffC"
      },
      "outputs": [],
      "source": [
        "train_ds = train_ds.cache().shuffle(1000).batch(32).prefetch(tf.data.AUTOTUNE)\n",
        "val_ds = val_ds.cache().batch(32).prefetch(tf.data.AUTOTUNE)\n",
        "test_ds = test_ds.cache().batch(32).prefetch(tf.data.AUTOTUNE)"
      ]
    },
    {
      "cell_type": "markdown",
      "metadata": {
        "id": "v5PaMwvtcAIe"
      },
      "source": [
        "## Create your model\n",
        "\n",
        "You did most of the work!\n",
        "Next, define a very simple [Sequential](https://www.tensorflow.org/guide/keras/sequential_model) model with one hidden layer and two outputs to recognize cats and dogs from sounds.\n"
      ]
    },
    {
      "cell_type": "code",
      "execution_count": 17,
      "metadata": {
        "colab": {
          "base_uri": "https://localhost:8080/"
        },
        "id": "JYCE0Fr1GpN3",
        "outputId": "32923d36-0174-4698-9462-b6d8cbb21840"
      },
      "outputs": [
        {
          "output_type": "stream",
          "name": "stdout",
          "text": [
            "Model: \"yamnet_last_layer\"\n",
            "_________________________________________________________________\n",
            " Layer (type)                Output Shape              Param #   \n",
            "=================================================================\n",
            " dense (Dense)               (None, 512)               524800    \n",
            "                                                                 \n",
            " dropout (Dropout)           (None, 512)               0         \n",
            "                                                                 \n",
            " dense_1 (Dense)             (None, 256)               131328    \n",
            "                                                                 \n",
            " dropout_1 (Dropout)         (None, 256)               0         \n",
            "                                                                 \n",
            " dense_2 (Dense)             (None, 8)                 2056      \n",
            "                                                                 \n",
            "=================================================================\n",
            "Total params: 658,184\n",
            "Trainable params: 658,184\n",
            "Non-trainable params: 0\n",
            "_________________________________________________________________\n"
          ]
        }
      ],
      "source": [
        "classes_name = list(train_metadata['alt_class'].unique())\n",
        "yamnet_last_layer = tf.keras.Sequential([\n",
        "    tf.keras.layers.Input(shape=(1024), dtype=tf.float32, name='input_embedding'),\n",
        "    tf.keras.layers.Dense(512, activation='relu'),\n",
        "    tf.keras.layers.Dropout(0.5),\n",
        "    tf.keras.layers.Dense(256, activation='relu'),\n",
        "    tf.keras.layers.Dropout(0.5),\n",
        "    tf.keras.layers.Dense(len(classes_name))\n",
        "], name='yamnet_last_layer')\n",
        "\n",
        "yamnet_last_layer.summary()"
      ]
    },
    {
      "cell_type": "code",
      "source": [
        "SAVE_DIR = '/content/drive/MyDrive/Colab Notebooks/Bioakustik-Gajah'\n",
        "MODEL_CHECKPOINT_DIR = os.path.join(SAVE_DIR, 'model-checkpoint/')\n",
        "MODEL_DIR = os.path.join(SAVE_DIR, 'model/')"
      ],
      "metadata": {
        "id": "aaZznHdtApVY"
      },
      "execution_count": 18,
      "outputs": []
    },
    {
      "cell_type": "code",
      "execution_count": 19,
      "metadata": {
        "id": "l1qgH35HY0SE"
      },
      "outputs": [],
      "source": [
        "def scheduler(epoch, learning_rate):\n",
        "    if epoch < 5:\n",
        "        return learning_rate\n",
        "    else:\n",
        "        return learning_rate * tf.math.exp(-0.1)\n",
        "\n",
        "lr_scheduler = tf.keras.callbacks.LearningRateScheduler(scheduler)\n",
        "\n",
        "model_checkpoint = tf.keras.callbacks.ModelCheckpoint(\n",
        "    filepath=MODEL_CHECKPOINT_DIR,\n",
        "    save_weights_only=True,\n",
        "    monitor='val_accuracy',\n",
        "    mode='max',\n",
        "    save_best_only=True\n",
        ")\n",
        "\n",
        "yamnet_last_layer.save_weights(MODEL_CHECKPOINT_DIR.format(epoch=0))\n",
        "\n",
        "earlystopping = tf.keras.callbacks.EarlyStopping(\n",
        "    monitor='val_accuracy',\n",
        "    patience=5,\n",
        "    restore_best_weights=True)\n",
        "\n",
        "callbacks = [lr_scheduler, earlystopping, model_checkpoint]\n",
        "\n",
        "\n",
        "# initial_lr = 0.1\n",
        "# lr_schedule = tf.keras.optimizers.schedules.ExponentialDecay(\n",
        "#     initial_learning_rate=initial_lr,\n",
        "#     decay_steps=500,\n",
        "#     decay_rate=0.96,\n",
        "#     staircase=True\n",
        "# )\n",
        "yamnet_last_layer.compile(\n",
        "    optimizer=tf.keras.optimizers.Adam(learning_rate=0.01),\n",
        "    loss=tf.keras.losses.SparseCategoricalCrossentropy(from_logits=True),\n",
        "    metrics=['accuracy']\n",
        ")"
      ]
    },
    {
      "cell_type": "code",
      "execution_count": 20,
      "metadata": {
        "colab": {
          "base_uri": "https://localhost:8080/"
        },
        "id": "T3sj84eOZ3pk",
        "outputId": "a9dfca1d-76fa-4cfe-cd3a-3320fc20558d"
      },
      "outputs": [
        {
          "output_type": "stream",
          "name": "stdout",
          "text": [
            "Epoch 1/30\n",
            "489/489 [==============================] - 249s 454ms/step - loss: 1.6639 - accuracy: 0.7476 - val_loss: 1.0863 - val_accuracy: 0.6793 - lr: 0.0100\n",
            "Epoch 2/30\n",
            "489/489 [==============================] - 6s 12ms/step - loss: 1.6717 - accuracy: 0.7481 - val_loss: 1.0916 - val_accuracy: 0.6372 - lr: 0.0100\n",
            "Epoch 3/30\n",
            "489/489 [==============================] - 6s 12ms/step - loss: 0.8929 - accuracy: 0.7593 - val_loss: 0.9859 - val_accuracy: 0.6603 - lr: 0.0100\n",
            "Epoch 4/30\n",
            "489/489 [==============================] - 5s 11ms/step - loss: 0.6941 - accuracy: 0.7732 - val_loss: 0.9668 - val_accuracy: 0.6984 - lr: 0.0100\n",
            "Epoch 5/30\n",
            "489/489 [==============================] - 7s 14ms/step - loss: 0.8040 - accuracy: 0.7799 - val_loss: 1.0333 - val_accuracy: 0.6943 - lr: 0.0100\n",
            "Epoch 6/30\n",
            "489/489 [==============================] - 5s 11ms/step - loss: 0.6815 - accuracy: 0.7819 - val_loss: 0.9595 - val_accuracy: 0.7255 - lr: 0.0090\n",
            "Epoch 7/30\n",
            "489/489 [==============================] - 7s 14ms/step - loss: 0.6810 - accuracy: 0.7825 - val_loss: 0.9144 - val_accuracy: 0.7174 - lr: 0.0082\n",
            "Epoch 8/30\n",
            "489/489 [==============================] - 5s 11ms/step - loss: 0.6194 - accuracy: 0.7954 - val_loss: 0.9009 - val_accuracy: 0.7147 - lr: 0.0074\n",
            "Epoch 9/30\n",
            "489/489 [==============================] - 6s 11ms/step - loss: 0.6016 - accuracy: 0.7985 - val_loss: 0.9002 - val_accuracy: 0.7215 - lr: 0.0067\n",
            "Epoch 10/30\n",
            "489/489 [==============================] - 7s 14ms/step - loss: 0.5817 - accuracy: 0.8051 - val_loss: 0.9083 - val_accuracy: 0.7065 - lr: 0.0061\n",
            "Epoch 11/30\n",
            "489/489 [==============================] - 7s 14ms/step - loss: 0.5734 - accuracy: 0.8116 - val_loss: 0.8608 - val_accuracy: 0.7160 - lr: 0.0055\n"
          ]
        }
      ],
      "source": [
        "tf.keras.backend.clear_session()\n",
        "batch_size = 16\n",
        "epochs = 30\n",
        "validation_steps = len(val_df_filename) // batch_size\n",
        "history = yamnet_last_layer.fit(\n",
        "    train_ds,\n",
        "    validation_data=val_ds,\n",
        "    epochs=epochs,\n",
        "    batch_size=batch_size,\n",
        "    validation_steps=validation_steps,\n",
        "    callbacks=callbacks\n",
        ")"
      ]
    },
    {
      "cell_type": "markdown",
      "metadata": {
        "id": "OAbraYKYpdoE"
      },
      "source": [
        "Let's run the `evaluate` method on the test data just to be sure there's no overfitting."
      ]
    },
    {
      "cell_type": "code",
      "execution_count": 21,
      "metadata": {
        "colab": {
          "base_uri": "https://localhost:8080/"
        },
        "id": "H4Nh5nec3Sky",
        "outputId": "72a7c6da-0d3b-4449-c0a2-c14a8f61fc49"
      },
      "outputs": [
        {
          "output_type": "stream",
          "name": "stdout",
          "text": [
            "70/70 [==============================] - 33s 447ms/step - loss: 0.7097 - accuracy: 0.7878\n",
            "Loss:  0.709686815738678\n",
            "Accuracy:  0.7878378629684448\n"
          ]
        }
      ],
      "source": [
        "loss, accuracy = yamnet_last_layer.evaluate(test_ds)\n",
        "\n",
        "print(\"Loss: \", loss)\n",
        "print(\"Accuracy: \", accuracy)"
      ]
    },
    {
      "cell_type": "markdown",
      "metadata": {
        "id": "XEshxVv45eW0"
      },
      "source": [
        "### Measures Metrics"
      ]
    },
    {
      "cell_type": "code",
      "execution_count": 23,
      "metadata": {
        "colab": {
          "base_uri": "https://localhost:8080/"
        },
        "id": "LvWYHms637Se",
        "outputId": "3a2576f3-07d8-46ee-aae0-b99b6cd3f743"
      },
      "outputs": [
        {
          "output_type": "stream",
          "name": "stdout",
          "text": [
            "70/70 [==============================] - 0s 2ms/step\n",
            "Accuracy: 0.7878378378378378\n",
            "Precision: 0.43224111216580247\n",
            "Recall: 0.3222523654759963\n",
            "F1: 0.3436724276363196\n"
          ]
        },
        {
          "output_type": "stream",
          "name": "stderr",
          "text": [
            "/usr/local/lib/python3.10/dist-packages/sklearn/metrics/_classification.py:1344: UndefinedMetricWarning: Precision is ill-defined and being set to 0.0 in labels with no predicted samples. Use `zero_division` parameter to control this behavior.\n",
            "  _warn_prf(average, modifier, msg_start, len(result))\n"
          ]
        }
      ],
      "source": [
        "def get_metric_results(model, data_test: tf.data.Dataset.prefetch):\n",
        "    prediction = model.predict(data_test)\n",
        "    y_pred = np.argmax(prediction, axis=1)\n",
        "    y_true = []\n",
        "    for _, label in data_test:\n",
        "        y_true.extend(label.numpy())\n",
        "    y_true = np.array(y_true)\n",
        "    acc = accuracy_score(y_true, y_pred)\n",
        "    precision = precision_score(y_true, y_pred, average='macro')\n",
        "    recall = recall_score(y_true, y_pred, average='macro')\n",
        "    f1 = f1_score(y_true, y_pred, average='macro')\n",
        "\n",
        "    print(\"Accuracy: {}\".format(acc))\n",
        "    print(\"Precision: {}\".format(precision))\n",
        "    print(\"Recall: {}\".format(recall))\n",
        "    print(\"F1: {}\".format(f1))\n",
        "\n",
        "get_metric_results(yamnet_last_layer, test_ds)"
      ]
    },
    {
      "cell_type": "markdown",
      "metadata": {
        "id": "k2yleeev645r"
      },
      "source": [
        "## Save a model that can directly take a WAV file as input\n",
        "\n",
        "Your model works when you give it the embeddings as input.\n",
        "\n",
        "In a real-world scenario, you'll want to use audio data as a direct input.\n",
        "\n",
        "To do that, you will combine YAMNet with your model into a single model that you can export for other applications.\n",
        "\n",
        "To make it easier to use the model's result, the final layer will be a `reduce_mean` operation. When using this model for serving (which you will learn about later in the tutorial), you will need the name of the final layer. If you don't define one, TensorFlow will auto-define an incremental one that makes it hard to test, as it will keep changing every time you train the model. When using a raw TensorFlow operation, you can't assign a name to it. To address this issue, you'll create a custom layer that applies `reduce_mean` and call it `'classifier'`.\n"
      ]
    },
    {
      "cell_type": "code",
      "execution_count": 24,
      "metadata": {
        "id": "QUVCI2Suunpw"
      },
      "outputs": [],
      "source": [
        "class ReduceMeanLayer(tf.keras.layers.Layer):\n",
        "  def __init__(self, axis=0, **kwargs):\n",
        "    super(ReduceMeanLayer, self).__init__(**kwargs)\n",
        "    self.axis = axis\n",
        "\n",
        "  def call(self, input):\n",
        "    return tf.math.reduce_mean(input, axis=self.axis)"
      ]
    },
    {
      "cell_type": "code",
      "execution_count": 25,
      "metadata": {
        "id": "zE_Npm0nzlwc"
      },
      "outputs": [],
      "source": [
        "saved_model_path = os.path.join(DATA_DIR, MODEL_DIR)\n",
        "\n",
        "input_segment = tf.keras.layers.Input(shape=(), dtype=tf.float32, name='audio')\n",
        "embedding_extraction_layer = hub.KerasLayer(yamnet_model_handle, trainable=False, name='yamnet')\n",
        "_, embeddings_output, _ = embedding_extraction_layer(input_segment)\n",
        "serving_outputs = yamnet_last_layer(embeddings_output)\n",
        "serving_outputs = ReduceMeanLayer(axis=0, name='classifier')(serving_outputs)\n",
        "serving_model = tf.keras.Model(input_segment, serving_outputs)"
      ]
    },
    {
      "cell_type": "code",
      "execution_count": 34,
      "metadata": {
        "colab": {
          "base_uri": "https://localhost:8080/",
          "height": 407
        },
        "id": "y-0bY5FMme1C",
        "outputId": "a878bf21-e211-4d4c-93bf-ced6bbe5bc55"
      },
      "outputs": [
        {
          "output_type": "stream",
          "name": "stderr",
          "text": [
            "WARNING:tensorflow:Compiled the loaded model, but the compiled metrics have yet to be built. `model.compile_metrics` will be empty until you train or evaluate the model.\n"
          ]
        },
        {
          "output_type": "execute_result",
          "data": {
            "image/png": "[encoded data removed]",
            "text/plain": [
              "<IPython.core.display.Image object>"
            ]
          },
          "metadata": {},
          "execution_count": 34
        }
      ],
      "source": [
        "serving_model.save(saved_model_path, include_optimizer=True)\n",
        "tf.keras.utils.plot_model(serving_model)"
      ]
    },
    {
      "cell_type": "markdown",
      "metadata": {
        "id": "btHQDN9mqxM_"
      },
      "source": [
        "Load your saved model to verify that it works as expected."
      ]
    },
    {
      "cell_type": "code",
      "execution_count": 35,
      "metadata": {
        "id": "KkYVpJS72WWB"
      },
      "outputs": [],
      "source": [
        "reloaded_model = tf.saved_model.load(saved_model_path)"
      ]
    },
    {
      "cell_type": "markdown",
      "metadata": {
        "id": "4BkmvvNzq49l"
      },
      "source": [
        "And for the final test: given some sound data, does your model return the correct result?"
      ]
    },
    {
      "cell_type": "code",
      "execution_count": 27,
      "metadata": {
        "colab": {
          "base_uri": "https://localhost:8080/",
          "height": 363
        },
        "id": "LD-dhNpFrFkF",
        "outputId": "0981eec0-a721-4e69-ce0d-c6cb0b71cde1"
      },
      "outputs": [
        {
          "output_type": "execute_result",
          "data": {
            "text/plain": [
              "                                              filename alt_class  alt_class_id\n",
              "9    /content/drive/MyDrive/Colab Notebooks/dataset...     other             1\n",
              "88   /content/drive/MyDrive/Colab Notebooks/dataset...      roar             3\n",
              "150  /content/drive/MyDrive/Colab Notebooks/dataset...     other             1\n",
              "10   /content/drive/MyDrive/Colab Notebooks/dataset...    rumble             2\n",
              "91   /content/drive/MyDrive/Colab Notebooks/dataset...     other             1\n",
              "69   /content/drive/MyDrive/Colab Notebooks/dataset...   trumpet             0\n",
              "110  /content/drive/MyDrive/Colab Notebooks/dataset...   trumpet             0\n",
              "117  /content/drive/MyDrive/Colab Notebooks/dataset...      roar             3\n",
              "147  /content/drive/MyDrive/Colab Notebooks/dataset...     other             1\n",
              "75   /content/drive/MyDrive/Colab Notebooks/dataset...    rumble             2"
            ],
            "text/html": [
              "\n",
              "  <div id=\"df-f9558d40-a159-4671-af9a-f29de178bf11\">\n",
              "    <div class=\"colab-df-container\">\n",
              "      <div>\n",
              "<style scoped>\n",
              "    .dataframe tbody tr th:only-of-type {\n",
              "        vertical-align: middle;\n",
              "    }\n",
              "\n",
              "    .dataframe tbody tr th {\n",
              "        vertical-align: top;\n",
              "    }\n",
              "\n",
              "    .dataframe thead th {\n",
              "        text-align: right;\n",
              "    }\n",
              "</style>\n",
              "<table border=\"1\" class=\"dataframe\">\n",
              "  <thead>\n",
              "    <tr style=\"text-align: right;\">\n",
              "      <th></th>\n",
              "      <th>filename</th>\n",
              "      <th>alt_class</th>\n",
              "      <th>alt_class_id</th>\n",
              "    </tr>\n",
              "  </thead>\n",
              "  <tbody>\n",
              "    <tr>\n",
              "      <th>9</th>\n",
              "      <td>/content/drive/MyDrive/Colab Notebooks/dataset...</td>\n",
              "      <td>other</td>\n",
              "      <td>1</td>\n",
              "    </tr>\n",
              "    <tr>\n",
              "      <th>88</th>\n",
              "      <td>/content/drive/MyDrive/Colab Notebooks/dataset...</td>\n",
              "      <td>roar</td>\n",
              "      <td>3</td>\n",
              "    </tr>\n",
              "    <tr>\n",
              "      <th>150</th>\n",
              "      <td>/content/drive/MyDrive/Colab Notebooks/dataset...</td>\n",
              "      <td>other</td>\n",
              "      <td>1</td>\n",
              "    </tr>\n",
              "    <tr>\n",
              "      <th>10</th>\n",
              "      <td>/content/drive/MyDrive/Colab Notebooks/dataset...</td>\n",
              "      <td>rumble</td>\n",
              "      <td>2</td>\n",
              "    </tr>\n",
              "    <tr>\n",
              "      <th>91</th>\n",
              "      <td>/content/drive/MyDrive/Colab Notebooks/dataset...</td>\n",
              "      <td>other</td>\n",
              "      <td>1</td>\n",
              "    </tr>\n",
              "    <tr>\n",
              "      <th>69</th>\n",
              "      <td>/content/drive/MyDrive/Colab Notebooks/dataset...</td>\n",
              "      <td>trumpet</td>\n",
              "      <td>0</td>\n",
              "    </tr>\n",
              "    <tr>\n",
              "      <th>110</th>\n",
              "      <td>/content/drive/MyDrive/Colab Notebooks/dataset...</td>\n",
              "      <td>trumpet</td>\n",
              "      <td>0</td>\n",
              "    </tr>\n",
              "    <tr>\n",
              "      <th>117</th>\n",
              "      <td>/content/drive/MyDrive/Colab Notebooks/dataset...</td>\n",
              "      <td>roar</td>\n",
              "      <td>3</td>\n",
              "    </tr>\n",
              "    <tr>\n",
              "      <th>147</th>\n",
              "      <td>/content/drive/MyDrive/Colab Notebooks/dataset...</td>\n",
              "      <td>other</td>\n",
              "      <td>1</td>\n",
              "    </tr>\n",
              "    <tr>\n",
              "      <th>75</th>\n",
              "      <td>/content/drive/MyDrive/Colab Notebooks/dataset...</td>\n",
              "      <td>rumble</td>\n",
              "      <td>2</td>\n",
              "    </tr>\n",
              "  </tbody>\n",
              "</table>\n",
              "</div>\n",
              "      <button class=\"colab-df-convert\" onclick=\"convertToInteractive('df-f9558d40-a159-4671-af9a-f29de178bf11')\"\n",
              "              title=\"Convert this dataframe to an interactive table.\"\n",
              "              style=\"display:none;\">\n",
              "        \n",
              "  <svg xmlns=\"http://www.w3.org/2000/svg\" height=\"24px\"viewBox=\"0 0 24 24\"\n",
              "       width=\"24px\">\n",
              "    <path d=\"M0 0h24v24H0V0z\" fill=\"none\"/>\n",
              "    <path d=\"M18.56 5.44l.94 2.06.94-2.06 2.06-.94-2.06-.94-.94-2.06-.94 2.06-2.06.94zm-11 1L8.5 8.5l.94-2.06 2.06-.94-2.06-.94L8.5 2.5l-.94 2.06-2.06.94zm10 10l.94 2.06.94-2.06 2.06-.94-2.06-.94-.94-2.06-.94 2.06-2.06.94z\"/><path d=\"M17.41 7.96l-1.37-1.37c-.4-.4-.92-.59-1.43-.59-.52 0-1.04.2-1.43.59L10.3 9.45l-7.72 7.72c-.78.78-.78 2.05 0 2.83L4 21.41c.39.39.9.59 1.41.59.51 0 1.02-.2 1.41-.59l7.78-7.78 2.81-2.81c.8-.78.8-2.07 0-2.86zM5.41 20L4 18.59l7.72-7.72 1.47 1.35L5.41 20z\"/>\n",
              "  </svg>\n",
              "      </button>\n",
              "      \n",
              "  <style>\n",
              "    .colab-df-container {\n",
              "      display:flex;\n",
              "      flex-wrap:wrap;\n",
              "      gap: 12px;\n",
              "    }\n",
              "\n",
              "    .colab-df-convert {\n",
              "      background-color: #E8F0FE;\n",
              "      border: none;\n",
              "      border-radius: 50%;\n",
              "      cursor: pointer;\n",
              "      display: none;\n",
              "      fill: #1967D2;\n",
              "      height: 32px;\n",
              "      padding: 0 0 0 0;\n",
              "      width: 32px;\n",
              "    }\n",
              "\n",
              "    .colab-df-convert:hover {\n",
              "      background-color: #E2EBFA;\n",
              "      box-shadow: 0px 1px 2px rgba(60, 64, 67, 0.3), 0px 1px 3px 1px rgba(60, 64, 67, 0.15);\n",
              "      fill: #174EA6;\n",
              "    }\n",
              "\n",
              "    [theme=dark] .colab-df-convert {\n",
              "      background-color: #3B4455;\n",
              "      fill: #D2E3FC;\n",
              "    }\n",
              "\n",
              "    [theme=dark] .colab-df-convert:hover {\n",
              "      background-color: #434B5C;\n",
              "      box-shadow: 0px 1px 3px 1px rgba(0, 0, 0, 0.15);\n",
              "      filter: drop-shadow(0px 1px 2px rgba(0, 0, 0, 0.3));\n",
              "      fill: #FFFFFF;\n",
              "    }\n",
              "  </style>\n",
              "\n",
              "      <script>\n",
              "        const buttonEl =\n",
              "          document.querySelector('#df-f9558d40-a159-4671-af9a-f29de178bf11 button.colab-df-convert');\n",
              "        buttonEl.style.display =\n",
              "          google.colab.kernel.accessAllowed ? 'block' : 'none';\n",
              "\n",
              "        async function convertToInteractive(key) {\n",
              "          const element = document.querySelector('#df-f9558d40-a159-4671-af9a-f29de178bf11');\n",
              "          const dataTable =\n",
              "            await google.colab.kernel.invokeFunction('convertToInteractive',\n",
              "                                                     [key], {});\n",
              "          if (!dataTable) return;\n",
              "\n",
              "          const docLinkHtml = 'Like what you see? Visit the ' +\n",
              "            '<a target=\"_blank\" href=https://colab.research.google.com/notebooks/data_table.ipynb>data table notebook</a>'\n",
              "            + ' to learn more about interactive tables.';\n",
              "          element.innerHTML = '';\n",
              "          dataTable['output_type'] = 'display_data';\n",
              "          await google.colab.output.renderOutput(dataTable, element);\n",
              "          const docLink = document.createElement('div');\n",
              "          docLink.innerHTML = docLinkHtml;\n",
              "          element.appendChild(docLink);\n",
              "        }\n",
              "      </script>\n",
              "    </div>\n",
              "  </div>\n",
              "  "
            ]
          },
          "metadata": {},
          "execution_count": 27
        }
      ],
      "source": [
        "test_metadata[['filename', 'alt_class', 'alt_class_id']].sample(10)"
      ]
    },
    {
      "cell_type": "code",
      "execution_count": 30,
      "metadata": {
        "colab": {
          "base_uri": "https://localhost:8080/"
        },
        "id": "xeXtD5HO28y-",
        "outputId": "92c1b921-4f8d-42c5-cfd6-2f82a1c589e7"
      },
      "outputs": [
        {
          "output_type": "stream",
          "name": "stderr",
          "text": [
            "WARNING:tensorflow:Using a while_loop for converting IO>AudioResample cause there is no registered converter for this op.\n"
          ]
        },
        {
          "output_type": "stream",
          "name": "stdout",
          "text": [
            "The prediction sound is: roar, confident value: 0.37774479389190674\n"
          ]
        }
      ],
      "source": [
        "testing_wav_data = load_wav_16k_mono(test_metadata['filename'][110])\n",
        "\n",
        "reloaded_results = reloaded_model(testing_wav_data)\n",
        "cls = tf.math.argmax(reloaded_results)\n",
        "prediction_class = classes_name[cls]\n",
        "prediction_prob = tf.nn.softmax(reloaded_results, axis=-1)\n",
        "cls_prob = prediction_prob[cls]\n",
        "print(f\"The prediction sound is: {prediction_class}, confident value: {cls_prob}\")"
      ]
    },
    {
      "cell_type": "markdown",
      "metadata": {
        "id": "ZRrOcBYTUgwn"
      },
      "source": [
        "If you want to try your new model on a serving setup, you can use the 'serving_default' signature."
      ]
    },
    {
      "cell_type": "code",
      "execution_count": 31,
      "metadata": {
        "colab": {
          "base_uri": "https://localhost:8080/"
        },
        "id": "ycC8zzDSUG2s",
        "outputId": "f45a393c-82c3-41b4-9903-3f38c7651ddf"
      },
      "outputs": [
        {
          "output_type": "stream",
          "name": "stdout",
          "text": [
            "The main sound is: roar\n"
          ]
        }
      ],
      "source": [
        "serving_results = reloaded_model.signatures['serving_default'](testing_wav_data)\n",
        "pred_results = classes_name[tf.math.argmax(serving_results['classifier'])]\n",
        "print(f'The main sound is: {pred_results}')"
      ]
    },
    {
      "cell_type": "markdown",
      "source": [
        "## Convert Model to TF-Lite"
      ],
      "metadata": {
        "id": "kYM4cnATOd-v"
      }
    },
    {
      "cell_type": "code",
      "execution_count": 37,
      "metadata": {
        "id": "xBnlNaL10MCm"
      },
      "outputs": [],
      "source": [
        "model = tf.saved_model.load(export_dir=os.path.join(SAVE_DIR, 'model'))"
      ]
    },
    {
      "cell_type": "code",
      "source": [
        "testing_wav_data = load_wav_16k_mono(test_metadata['filename'][110])\n",
        "\n",
        "reloaded_results = model(testing_wav_data)\n",
        "cls = tf.math.argmax(reloaded_results)\n",
        "classes_name = list(train_metadata['alt_class'].unique())\n",
        "prediction_class = classes_name[cls]\n",
        "prediction_prob = tf.nn.softmax(reloaded_results, axis=-1)\n",
        "cls_prob = prediction_prob[cls]\n",
        "print(f\"The prediction sound is: {prediction_class}, confident value: {cls_prob}\")"
      ],
      "metadata": {
        "colab": {
          "base_uri": "https://localhost:8080/"
        },
        "id": "1g-mQTuaqbbn",
        "outputId": "c056fad6-22de-499c-f9e2-68115bfce4c7"
      },
      "execution_count": 39,
      "outputs": [
        {
          "output_type": "stream",
          "name": "stdout",
          "text": [
            "The prediction sound is: roar, confident value: 0.4141089618206024\n"
          ]
        }
      ]
    },
    {
      "cell_type": "code",
      "source": [
        "# 1st Mechanism\n",
        "# Convert the model\n",
        "converter = tf.lite.TFLiteConverter.from_saved_model(os.path.join(SAVE_DIR, 'model')) # path to the SavedModel directory\n",
        "tflite_model = converter.convert()\n",
        "\n",
        "# Save the model.\n",
        "# tflite_dir = os.path.join(SAVE_DIR, 'TFLite-model')\n",
        "with open('model-v0.3.tflite', 'wb') as f:\n",
        "  f.write(tflite_model)"
      ],
      "metadata": {
        "id": "VusQGg_8rUcz"
      },
      "execution_count": 40,
      "outputs": []
    },
    {
      "cell_type": "code",
      "source": [
        "# Convert the model from the reloaded_model object\n",
        "converter = tf.lite.TFLiteConverter.from_keras_model(yamnet_last_layer)\n",
        "tflite_model = converter.convert()\n",
        "\n",
        "with open('model-v0.3-from-keras-model-wo-rdm.tflite', 'wb') as f:\n",
        "    f.write(tflite_model)"
      ],
      "metadata": {
        "id": "3jB-3WITtfbB"
      },
      "execution_count": null,
      "outputs": []
    }
  ],
  "metadata": {
    "accelerator": "GPU",
    "colab": {
      "collapsed_sections": [
        "Cb4espuLKJiA"
      ],
      "machine_shape": "hm",
      "provenance": [],
      "gpuType": "V100",
      "include_colab_link": true
    },
    "kernelspec": {
      "display_name": "Python 3",
      "name": "python3"
    }
  },
  "nbformat": 4,
  "nbformat_minor": 0
}